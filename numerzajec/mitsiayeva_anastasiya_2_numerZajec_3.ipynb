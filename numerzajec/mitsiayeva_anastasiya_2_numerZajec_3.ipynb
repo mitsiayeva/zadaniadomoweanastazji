{
  "nbformat": 4,
  "nbformat_minor": 0,
  "metadata": {
    "colab": {
      "provenance": []
    },
    "kernelspec": {
      "name": "python3",
      "display_name": "Python 3"
    },
    "language_info": {
      "name": "python"
    }
  },
  "cells": [
    {
      "cell_type": "code",
      "execution_count": 194,
      "metadata": {
        "colab": {
          "base_uri": "https://localhost:8080/"
        },
        "id": "v6GQfOqmbVxX",
        "outputId": "fe83b28f-956f-400d-e30b-736f3465e8dd"
      },
      "outputs": [
        {
          "output_type": "stream",
          "name": "stdout",
          "text": [
            "Jak masz na imię? Anastazja\n",
            "Jakie jest Twoje nazwisko? Miciajewa\n",
            "Ile masz lat? 25\n",
            "Wpisz hasło: blabla\n",
            "Powtórz hasło: blabla\n",
            "Podaj numer telefonu: 1234-5678-9\n",
            "Numer jest podany prawidłowo\n",
            "\n",
            "Dane użytkownika: \n",
            "Anastazja\n",
            "Miciajewa\n",
            "25\n",
            "blabla\n",
            "123456789\n"
          ]
        }
      ],
      "source": [
        "#Zadanie nr 1\n",
        "bAllIsGood = True\n",
        "\n",
        "#a\n",
        "if(bAllIsGood):\n",
        "  imie = input(\"Jak masz na imię? \")\n",
        "  if not imie.isalpha() or not imie.istitle():\n",
        "    print (\"Error w imieniu\")\n",
        "    bAllIsGood = False\n",
        "\n",
        "#b\n",
        "if(bAllIsGood):\n",
        "  nazwisko = input(\"Jakie jest Twoje nazwisko? \")\n",
        "  if not nazwisko.isalpha() or not nazwisko.istitle():\n",
        "    print (\"Error w nazwisku\")\n",
        "    bAllIsGood = False\n",
        "\n",
        "#c\n",
        "if(bAllIsGood):\n",
        "  wiek = input(\"Ile masz lat? \")\n",
        "  if not wiek.isdigit() or not (int(wiek) >= 3 and int(wiek) <= 150):\n",
        "    print(\"Error w wieku\")\n",
        "    bAllIsGood = False\n",
        "\n",
        "#d\n",
        "if(bAllIsGood):\n",
        "  hasło = input(\"Wpisz hasło: \")\n",
        "  hasło_potwierdzone = input(\"Powtórz hasło: \")\n",
        "  if not hasło == hasło_potwierdzone:\n",
        "    print(\"Error przy potwierdzeniu hasła\")\n",
        "    bAllIsGood = False\n",
        "\n",
        "#e\n",
        "\n",
        "if(bAllIsGood):\n",
        "  numer = input(\"Podaj numer telefonu: \")\n",
        "\n",
        "  bProperNumber = False #zakładamy, że numer nie jest prawidłowy\n",
        "  if(numer.find(\"-\")): #1 typ\n",
        "      numer = numer.replace(\"-\",\"\")\n",
        "      if numer.isdigit():\n",
        "        if len(numer) == 9:\n",
        "          bProperNumber = True\n",
        "  if (numer.find(\" \")): #2 typ\n",
        "    numer = numer.replace(\" \",\"\")\n",
        "    if(numer.isdigit()):\n",
        "      if len(numer) == 9:\n",
        "        bProperNumber = True\n",
        "\n",
        "  if bProperNumber:\n",
        "    print (\"Numer jest podany prawidłowo\")\n",
        "  else:\n",
        "    print (\"Wpisałeś błędne dane\")\n",
        "    bAllIsGood = False\n",
        "\n",
        "if(bAllIsGood):\n",
        "  print (\"\\nDane użytkownika: \")\n",
        "  print (imie)\n",
        "  print (nazwisko)\n",
        "  print (wiek)\n",
        "  print (hasło)\n",
        "  print (numer)"
      ]
    }
  ]
}