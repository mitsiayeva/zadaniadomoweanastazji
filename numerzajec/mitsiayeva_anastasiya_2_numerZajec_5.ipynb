{
  "nbformat": 4,
  "nbformat_minor": 0,
  "metadata": {
    "colab": {
      "provenance": []
    },
    "kernelspec": {
      "name": "python3",
      "display_name": "Python 3"
    },
    "language_info": {
      "name": "python"
    }
  },
  "cells": [
    {
      "cell_type": "code",
      "execution_count": 1,
      "metadata": {
        "id": "yCwwVwDzk4Li"
      },
      "outputs": [],
      "source": [
        "import pandas as pd"
      ]
    },
    {
      "cell_type": "code",
      "source": [
        "#1\n",
        "df_titanic = pd.read_csv(\"/content/train.csv\")"
      ],
      "metadata": {
        "id": "NZ3QPKiylDO_"
      },
      "execution_count": 5,
      "outputs": []
    },
    {
      "cell_type": "code",
      "source": [
        "#2 na podstawie kolumnny \"Sex\" stworzyc nowa kolumne o nazwie \"Sex2\" w ktorej stworzyc nastepujace wartosci:\n",
        "#dla female - cyfra 1 (int)\n",
        "#dla male - cyfra 0 (int)\n",
        "\n",
        "df_titanic['Sex2'] = df_titanic['Sex'].apply(lambda x: 1 if x == 'female' else 0)\n",
        "\n",
        "# Wyświetlamy zaktualizowaną ramkę danych\n",
        "print(df_titanic)"
      ],
      "metadata": {
        "colab": {
          "base_uri": "https://localhost:8080/"
        },
        "id": "ld8w4G1XlRde",
        "outputId": "08f3e98e-0f35-4098-a1b2-f630e175fb67"
      },
      "execution_count": 6,
      "outputs": [
        {
          "output_type": "stream",
          "name": "stdout",
          "text": [
            "     PassengerId  Survived  Pclass  \\\n",
            "0              1         0       3   \n",
            "1              2         1       1   \n",
            "2              3         1       3   \n",
            "3              4         1       1   \n",
            "4              5         0       3   \n",
            "..           ...       ...     ...   \n",
            "886          887         0       2   \n",
            "887          888         1       1   \n",
            "888          889         0       3   \n",
            "889          890         1       1   \n",
            "890          891         0       3   \n",
            "\n",
            "                                                  Name     Sex   Age  SibSp  \\\n",
            "0                              Braund, Mr. Owen Harris    male  22.0      1   \n",
            "1    Cumings, Mrs. John Bradley (Florence Briggs Th...  female  38.0      1   \n",
            "2                               Heikkinen, Miss. Laina  female  26.0      0   \n",
            "3         Futrelle, Mrs. Jacques Heath (Lily May Peel)  female  35.0      1   \n",
            "4                             Allen, Mr. William Henry    male  35.0      0   \n",
            "..                                                 ...     ...   ...    ...   \n",
            "886                              Montvila, Rev. Juozas    male  27.0      0   \n",
            "887                       Graham, Miss. Margaret Edith  female  19.0      0   \n",
            "888           Johnston, Miss. Catherine Helen \"Carrie\"  female   NaN      1   \n",
            "889                              Behr, Mr. Karl Howell    male  26.0      0   \n",
            "890                                Dooley, Mr. Patrick    male  32.0      0   \n",
            "\n",
            "     Parch            Ticket     Fare Cabin Embarked  Sex2  \n",
            "0        0         A/5 21171   7.2500   NaN        S     0  \n",
            "1        0          PC 17599  71.2833   C85        C     1  \n",
            "2        0  STON/O2. 3101282   7.9250   NaN        S     1  \n",
            "3        0            113803  53.1000  C123        S     1  \n",
            "4        0            373450   8.0500   NaN        S     0  \n",
            "..     ...               ...      ...   ...      ...   ...  \n",
            "886      0            211536  13.0000   NaN        S     0  \n",
            "887      0            112053  30.0000   B42        S     1  \n",
            "888      2        W./C. 6607  23.4500   NaN        S     1  \n",
            "889      0            111369  30.0000  C148        C     0  \n",
            "890      0            370376   7.7500   NaN        Q     0  \n",
            "\n",
            "[891 rows x 13 columns]\n"
          ]
        }
      ]
    }
  ]
}