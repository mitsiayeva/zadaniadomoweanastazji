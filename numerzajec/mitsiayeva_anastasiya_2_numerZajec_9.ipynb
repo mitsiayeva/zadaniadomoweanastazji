{
  "nbformat": 4,
  "nbformat_minor": 0,
  "metadata": {
    "colab": {
      "provenance": []
    },
    "kernelspec": {
      "name": "python3",
      "display_name": "Python 3"
    },
    "language_info": {
      "name": "python"
    }
  },
  "cells": [
    {
      "cell_type": "code",
      "execution_count": 2,
      "metadata": {
        "id": "GV3-RO40pJWR"
      },
      "outputs": [],
      "source": [
        "import re\n",
        "\n",
        "tekst1 = \"Imię i nazwisko: Hubar, Patryk. Data urodzenia: 7 czerwca 1993. Numer telefonu: 123-456-789\"\n",
        "tekst2 = \"Imię i nazwisko: Mickiewicz, Adam. Data urodzenia: 22 stycznia 1877. Numer telefonu: 789456123\"\n"
      ]
    },
    {
      "cell_type": "code",
      "source": [
        "# Wyrażenia regularne\n",
        "imie_nazwisko_pattern = r\"Imię i nazwisko: ([A-Z][a-z]+), ([A-Z][a-z]+)[.]\"\n",
        "data_urodzenia_pattern = r\"Data urodzenia: (\\d+ \\w+ \\d+)[.]\"\n",
        "numer_telefonu_pattern = r\"Numer telefonu: (\\d+-\\d+-\\d+)\""
      ],
      "metadata": {
        "id": "5wsPu0dxpQj0"
      },
      "execution_count": 3,
      "outputs": []
    },
    {
      "cell_type": "code",
      "source": [
        "# Wyciąganie informacji\n",
        "imie_nazwisko1 = re.findall(imie_nazwisko_pattern, tekst1)\n",
        "imie1, nazwisko1 = imie_nazwisko1[0] if imie_nazwisko1 else (None, None)\n",
        "\n",
        "imie_nazwisko2 = re.findall(imie_nazwisko_pattern, tekst2)\n",
        "imie2, nazwisko2 = imie_nazwisko2[0] if imie_nazwisko2 else (None, None)\n",
        "\n",
        "data_urodzenia1 = re.findall(data_urodzenia_pattern, tekst1)\n",
        "data_urodzenia1 = data_urodzenia1[0] if data_urodzenia1 else None\n",
        "\n",
        "data_urodzenia2 = re.findall(data_urodzenia_pattern, tekst2)\n",
        "data_urodzenia2 = data_urodzenia2[0] if data_urodzenia2 else None\n",
        "\n",
        "numer_telefonu1 = re.findall(numer_telefonu_pattern, tekst1)\n",
        "numer_telefonu1 = numer_telefonu1[0] if numer_telefonu1 else None\n",
        "\n",
        "numer_telefonu2 = re.findall(numer_telefonu_pattern, tekst2)\n",
        "numer_telefonu2 = numer_telefonu2[0] if numer_telefonu2 else None"
      ],
      "metadata": {
        "id": "tlMsZeozpXTW"
      },
      "execution_count": 4,
      "outputs": []
    },
    {
      "cell_type": "code",
      "source": [
        "# Wyświetlenie wyników\n",
        "print(\"Osoba 1:\")\n",
        "print(f\"Imię: {imie1}\")\n",
        "print(f\"Nazwisko: {nazwisko1}\")\n",
        "print(f\"Data urodzenia: {data_urodzenia1}\")\n",
        "print(f\"Numer telefonu: {numer_telefonu1}\")\n",
        "\n",
        "print(\"\\nOsoba 2:\")\n",
        "print(f\"Imię: {imie2}\")\n",
        "print(f\"Nazwisko: {nazwisko2}\")\n",
        "print(f\"Data urodzenia: {data_urodzenia2}\")\n",
        "print(f\"Numer telefonu: {numer_telefonu2}\")"
      ],
      "metadata": {
        "colab": {
          "base_uri": "https://localhost:8080/"
        },
        "id": "p75bHHmJpblO",
        "outputId": "fe3658cb-6470-4434-b1de-3f9f1c2dcfbd"
      },
      "execution_count": 5,
      "outputs": [
        {
          "output_type": "stream",
          "name": "stdout",
          "text": [
            "Osoba 1:\n",
            "Imię: Hubar\n",
            "Nazwisko: Patryk\n",
            "Data urodzenia: 7 czerwca 1993\n",
            "Numer telefonu: 123-456-789\n",
            "\n",
            "Osoba 2:\n",
            "Imię: Mickiewicz\n",
            "Nazwisko: Adam\n",
            "Data urodzenia: 22 stycznia 1877\n",
            "Numer telefonu: None\n"
          ]
        }
      ]
    }
  ]
}