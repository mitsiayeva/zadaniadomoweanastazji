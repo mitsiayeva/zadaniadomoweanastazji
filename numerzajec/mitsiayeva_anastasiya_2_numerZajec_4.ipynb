{
  "nbformat": 4,
  "nbformat_minor": 0,
  "metadata": {
    "colab": {
      "provenance": []
    },
    "kernelspec": {
      "name": "python3",
      "display_name": "Python 3"
    },
    "language_info": {
      "name": "python"
    }
  },
  "cells": [
    {
      "cell_type": "code",
      "execution_count": 20,
      "metadata": {
        "id": "Wkmzd5_IY-Iq"
      },
      "outputs": [],
      "source": [
        "#Zadanie 3\n",
        "product_list = [6, 2, 3, 7, 1, 12, 56, 99]\n"
      ]
    },
    {
      "cell_type": "code",
      "source": [
        "for liczba in product_list:\n",
        "  print (liczba)"
      ],
      "metadata": {
        "colab": {
          "base_uri": "https://localhost:8080/"
        },
        "id": "3R1Q2XpJaLvZ",
        "outputId": "ca1bacaa-2855-4601-aa67-d683672c5e5b"
      },
      "execution_count": 21,
      "outputs": [
        {
          "output_type": "stream",
          "name": "stdout",
          "text": [
            "6\n",
            "2\n",
            "3\n",
            "7\n",
            "1\n",
            "12\n",
            "56\n",
            "99\n"
          ]
        }
      ]
    },
    {
      "cell_type": "code",
      "source": [
        "for number in product_list:\n",
        "  if number >= 10 and number <= 99:\n",
        "    number = str(number)\n",
        "\n",
        "print(min(product_list))"
      ],
      "metadata": {
        "colab": {
          "base_uri": "https://localhost:8080/"
        },
        "id": "UJV3Lq4xke4w",
        "outputId": "e81bffa2-0e9c-4564-f041-f2c42d012411"
      },
      "execution_count": 22,
      "outputs": [
        {
          "output_type": "stream",
          "name": "stdout",
          "text": [
            "1\n"
          ]
        }
      ]
    },
    {
      "cell_type": "code",
      "source": [
        "#Zadanie 1\n",
        "n = int(input(\"Podaj liczbę rzędów: \"))\n",
        "\n",
        "# Wygenerowanie wzoru\n",
        "for i in range(1, n):\n",
        "    for j in range(1, i + 1):\n",
        "        print(j, end=\"\")\n",
        "    print()"
      ],
      "metadata": {
        "colab": {
          "base_uri": "https://localhost:8080/"
        },
        "id": "kH6n0Jyvybrj",
        "outputId": "81895de0-3214-48b9-d85f-fd0101ba4dd0"
      },
      "execution_count": 29,
      "outputs": [
        {
          "output_type": "stream",
          "name": "stdout",
          "text": [
            "Podaj liczbę rzędów: 9\n",
            "1\n",
            "12\n",
            "123\n",
            "1234\n",
            "12345\n",
            "123456\n",
            "1234567\n",
            "12345678\n"
          ]
        }
      ]
    },
    {
      "cell_type": "code",
      "source": [
        "#Zadanie 2\n",
        "n = 5\n",
        "\n",
        "for i in range(1, n + 1):\n",
        "    print('*' * i)\n",
        "\n",
        "\n",
        "for i in range(n - 1, 0, -1):\n",
        "    print('*' * i)"
      ],
      "metadata": {
        "colab": {
          "base_uri": "https://localhost:8080/"
        },
        "id": "5urr3fSi_6lT",
        "outputId": "0803ce54-0ad2-48ef-d998-d7c2c39c62dd"
      },
      "execution_count": 30,
      "outputs": [
        {
          "output_type": "stream",
          "name": "stdout",
          "text": [
            "*\n",
            "**\n",
            "***\n",
            "****\n",
            "*****\n",
            "****\n",
            "***\n",
            "**\n",
            "*\n"
          ]
        }
      ]
    }
  ]
}